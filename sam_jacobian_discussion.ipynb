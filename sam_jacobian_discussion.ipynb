{
 "cells": [
  {
   "cell_type": "code",
   "execution_count": 2,
   "metadata": {},
   "outputs": [],
   "source": [
    "import numpy as np\n",
    "from math import cos, sin, pi\n",
    "\n",
    "# From Ryan Keating via mc-capolei\n",
    "# https://raw.githubusercontent.com/mc-capolei/python-Universal-robot-kinematics/master/universal_robot_kinematics.py\n",
    "\n",
    "# https://www.universal-robots.com/articles/ur/application-installation/dh-parameters-for-calculations-of-kinematics-and-dynamics/\n",
    "# ****** Coefficients ******\n",
    "\n",
    "\n",
    "# UR 5e\n",
    "\n",
    "d1 = 0.1625\n",
    "a2 = -0.425\n",
    "a3 = -0.3922\n",
    "d4 = 0.1333\n",
    "d5 = 0.0997\n",
    "d6 = 0.0996\n",
    "\n",
    "d = np.array([d1, 0, 0, d4, d5, d6])\n",
    "a = np.array([0, a2, a3, 0, 0, 0])\n",
    "alph = np.array([pi / 2, 0, 0, pi / 2, -pi / 2, 0])"
   ]
  },
  {
   "cell_type": "code",
   "execution_count": 3,
   "metadata": {},
   "outputs": [],
   "source": [
    "def AH(n, th):\n",
    "\n",
    "    T_a = np.array(np.identity(4), copy=False)\n",
    "    T_a[0, 3] = a[n - 1]\n",
    "    T_d = np.array(np.identity(4), copy=False)\n",
    "    T_d[2, 3] = d[n - 1]\n",
    "\n",
    "    Rzt = np.array(\n",
    "        [\n",
    "            [cos(th[n - 1]), -sin(th[n - 1]), 0, 0],\n",
    "            [sin(th[n - 1]), cos(th[n - 1]), 0, 0],\n",
    "            [0, 0, 1, 0],\n",
    "            [0, 0, 0, 1],\n",
    "        ],\n",
    "        copy=False,\n",
    "    )\n",
    "\n",
    "    Rxa = np.array(\n",
    "        [\n",
    "            [1, 0, 0, 0],\n",
    "            [0, cos(alph[n - 1]), -sin(alph[n - 1]), 0],\n",
    "            [0, sin(alph[n - 1]), cos(alph[n - 1]), 0],\n",
    "            [0, 0, 0, 1],\n",
    "        ],\n",
    "        copy=False,\n",
    "    )\n",
    "\n",
    "    A_i = T_d @ Rzt @ T_a @ Rxa\n",
    "\n",
    "    return A_i"
   ]
  },
  {
   "cell_type": "code",
   "execution_count": 4,
   "metadata": {},
   "outputs": [],
   "source": [
    "def HTrans(th):\n",
    "    A_1 = AH(1, th)\n",
    "    A_2 = AH(2, th)\n",
    "    A_3 = AH(3, th)\n",
    "    A_4 = AH(4, th)\n",
    "    A_5 = AH(5, th)\n",
    "    A_6 = AH(6, th)\n",
    "\n",
    "    T_01 = A_1\n",
    "    T_02 = T_01 @ A_2\n",
    "    T_03 = T_02 @ A_3\n",
    "    T_04 = T_03 @ A_4 \n",
    "    T_05 = T_04 @ A_5   \n",
    "    T_06 = T_05 @ A_6\n",
    "  \n",
    "    transforms = [T_01, T_02, T_03, T_04, T_05, T_06]\n",
    "\n",
    "    return transforms"
   ]
  },
  {
   "cell_type": "code",
   "execution_count": 5,
   "metadata": {},
   "outputs": [],
   "source": [
    "from spatialmath import SE3, Twist3\n",
    "\n",
    "def get_joint_twists():\n",
    "    # everything in the space frame aka base frame\n",
    "    joint_twists = []\n",
    "    \n",
    "    # first joint\n",
    "    axis = np.array([0, 0, 1]) # rotates around z, right hand rule\n",
    "    point = np.array([0, 0, 0]) # a point on the axis of rotation\n",
    "    twist = Twist3.UnitRevolute(axis, point)\n",
    "    joint_twists.append(twist)\n",
    "    \n",
    "    # second joint\n",
    "    axis = np.array([0, -1, 0])\n",
    "    point = np.array([0, 0, d1])\n",
    "    twist = Twist3.UnitRevolute(axis, point)\n",
    "    joint_twists.append(twist)\n",
    "    \n",
    "    # third joint\n",
    "    axis = np.array([0, -1, 0])\n",
    "    point = np.array([a2, 0, d1])\n",
    "    twist = Twist3.UnitRevolute(axis, point)\n",
    "    joint_twists.append(twist)\n",
    "    \n",
    "    # fourth joint\n",
    "    axis = np.array([0, -1, 0])\n",
    "    point = np.array([a2 + a3, -d4, d1])\n",
    "    twist = Twist3.UnitRevolute(axis, point)\n",
    "    joint_twists.append(twist)\n",
    "    \n",
    "    # fifth joint\n",
    "    axis = np.array([0, 0, -1])\n",
    "    point = np.array([a2 + a3, -d4, d1 - d5])\n",
    "    twist = Twist3.UnitRevolute(axis, point)\n",
    "    joint_twists.append(twist)\n",
    "    \n",
    "    # sixth joint\n",
    "    axis = np.array([0, -1, 0])\n",
    "    point = np.array([a2 + a3, -d4 - d6, d1 - d5])\n",
    "    twist = Twist3.UnitRevolute(axis, point)\n",
    "    joint_twists.append(twist)\n",
    "    \n",
    "    return joint_twists\n",
    "\n",
    "zero_config_fk = HTrans([0]*6)[-1]\n",
    "zero_config_fk = SE3(zero_config_fk)    \n",
    "\n",
    "def get_fk_from_twists(joint_angles):\n",
    "    joint_twists = get_joint_twists()\n",
    "    relative_transforms = []\n",
    "    for idx, joint_twist in enumerate(joint_twists):\n",
    "        angle = joint_angles[idx]\n",
    "        transform = SE3(joint_twist.exp(angle))\n",
    "        relative_transforms.append(transform)\n",
    "        \n",
    "    fk = zero_config_fk\n",
    "    for transform in relative_transforms[::-1]:  # apply in reverse order\n",
    "        fk = transform * fk\n",
    "    return fk\n",
    "\n",
    "def get_ur5e_jacobian_from_twists(angles, frame=None):\n",
    "    if frame is None:\n",
    "        frame = \"body\"\n",
    "    joint_twists = get_joint_twists()\n",
    "    relative_transforms = []\n",
    "    for idx, joint_twist in enumerate(joint_twists):\n",
    "        angle = angles[idx]\n",
    "        relative_transforms.append(SE3(joint_twist.exp(angle)))\n",
    "    jacobian = np.zeros([6, 6])\n",
    "    twist_transform = SE3(np.eye(4))\n",
    "    for idx in range(6):\n",
    "        if idx > 0:\n",
    "            twist_transform = twist_transform @ relative_transforms[idx-1]\n",
    "        jacobian[:, idx] = twist_transform.Ad() @ joint_twists[idx].A  \n",
    "    \n",
    "    if frame == \"space\":\n",
    "        return jacobian\n",
    "    elif frame == \"body\":\n",
    "        fk = zero_config_fk\n",
    "        for transform in relative_transforms[::-1]:  # apply in reverse order\n",
    "            fk = transform * fk\n",
    "        return fk.inv().Ad() @ jacobian\n",
    "    else:\n",
    "        raise Exception(f\"frame: {frame} not in (space, body)\")\n",
    "\n",
    "def get_body_twist_from_transform(desired_transform, current_transform):\n",
    "    \"\"\"\n",
    "    Even though both desired_transform and current_transform are in space frame,\n",
    "    this returns a twist in the body frame.\n",
    "    \"\"\"\n",
    "    transform_from_desired = SE3(current_transform).inv().A @ desired_transform\n",
    "    twist = SE3(transform_from_desired).log(twist=True)\n",
    "    return twist\n",
    "\n",
    "def get_body_twist(current, desired):\n",
    "    # swap arguments to match Sam's code\n",
    "    body_twist = get_body_twist_from_transform(desired, current)\n",
    "    return body_twist\n",
    "\n",
    "def get_space_twist(current, desired):\n",
    "    body_twist = get_body_twist(current, desired)\n",
    "    space_twist = SE3(current).Ad() @ body_twist\n",
    "    return space_twist\n",
    "\n",
    "def space_jacobian(joint_angles):\n",
    "    return get_ur5e_jacobian_from_twists(joint_angles, frame=\"space\")\n",
    "    \n",
    "def body_jacobian(joint_angles):\n",
    "    return get_ur5e_jacobian_from_twists(joint_angles, frame=\"body\")\n",
    "    \n"
   ]
  },
  {
   "cell_type": "code",
   "execution_count": 6,
   "metadata": {},
   "outputs": [],
   "source": [
    "# https://github.com/PaperXLV/DifferentialInverseKinematics\n",
    "from Examples import task_one"
   ]
  },
  {
   "cell_type": "code",
   "execution_count": 7,
   "metadata": {},
   "outputs": [],
   "source": [
    "sam_output = task_one(trials=[35], modes=[\"DLS\"])"
   ]
  },
  {
   "cell_type": "code",
   "execution_count": 8,
   "metadata": {},
   "outputs": [],
   "source": [
    "space_output = task_one(trials=[35], modes=[\"DLS\"], jacobian_fn=space_jacobian, desired_twist_fn=get_space_twist)"
   ]
  },
  {
   "cell_type": "code",
   "execution_count": 9,
   "metadata": {},
   "outputs": [],
   "source": [
    "body_output = task_one(trials=[35], modes=[\"DLS\"], jacobian_fn=body_jacobian, desired_twist_fn=get_body_twist)\n"
   ]
  },
  {
   "cell_type": "code",
   "execution_count": 10,
   "metadata": {},
   "outputs": [
    {
     "name": "stdout",
     "output_type": "stream",
     "text": [
      "[[0.032, -1.3725181970436138, -1.1385929148786316, -1.999047792816215, 1.6238761884484256, 3.1735170462061815], [0.064, -1.363854336088454, -1.1464128658117576, -1.9982519265911864, 1.6176651966933768, 3.2049992349356717], [0.096, -1.3559824342410949, -1.1535066101951006, -1.9975964786518676, 1.611370619751199, 3.2364475373382473], [0.128, -1.348881588808139, -1.1599134180363937, -1.9970682922133878, 1.6049952864934351, 3.2678626542999853], [0.16, -1.3425356537426427, -1.1656655893735408, -1.9966570302411422, 1.5985408749889645, 3.2992448439500754]]\n"
     ]
    }
   ],
   "source": [
    "print(space_output[0][:5])\n",
    "positions = space_output[0]"
   ]
  },
  {
   "cell_type": "code",
   "execution_count": 16,
   "metadata": {},
   "outputs": [
    {
     "ename": "",
     "evalue": "",
     "output_type": "error",
     "traceback": [
      "\u001b[1;31mCanceled future for execute_request message before replies were done"
     ]
    },
    {
     "ename": "",
     "evalue": "",
     "output_type": "error",
     "traceback": [
      "\u001b[1;31mThe Kernel crashed while executing code in the the current cell or a previous cell. Please review the code in the cell(s) to identify a possible cause of the failure. Click <a href='https://aka.ms/vscodeJupyterKernelCrash'>here</a> for more info. View Jupyter <a href='command:jupyter.viewOutput'>log</a> for further details."
     ]
    }
   ],
   "source": [
    "\n",
    "from Webots import *\n",
    "# running space_output\n",
    "positions = space_output[0]\n",
    "# To run the manipulator\n",
    "i = 0\n",
    "while robot.step(timestep) != -1:\n",
    "    position = positions[i]\n",
    "    [motor.setPosition(angle) for motor, angle in zip(joint_motors, position)]\n",
    "\n",
    "    i += 1\n",
    "    if i == len(positions):\n",
    "        break\n"
   ]
  },
  {
   "cell_type": "code",
   "execution_count": 18,
   "metadata": {},
   "outputs": [],
   "source": [
    "from ProjectResults import create_error_plot, create_ellipse_plot, waypoints"
   ]
  },
  {
   "cell_type": "code",
   "execution_count": 15,
   "metadata": {},
   "outputs": [
    {
     "data": {
      "image/png": "[encoded data removed]",
      "text/plain": [
       "<Figure size 432x288 with 1 Axes>"
      ]
     },
     "metadata": {
      "needs_background": "light"
     },
     "output_type": "display_data"
    }
   ],
   "source": [
    "# Cosine similarity plot for space output actual and desired twist\n",
    "create_error_plot(np.array(space_output[3][0]), np.array(space_output[4][0]))"
   ]
  },
  {
   "cell_type": "code",
   "execution_count": 19,
   "metadata": {},
   "outputs": [
    {
     "data": {
      "image/png": "[encoded data removed]",
      "text/plain": [
       "<Figure size 432x288 with 1 Axes>"
      ]
     },
     "metadata": {
      "needs_background": "light"
     },
     "output_type": "display_data"
    }
   ],
   "source": [
    "# Ellipse plot for space output positions\n",
    "create_ellipse_plot(np.array(space_output[2][0]), waypoints)"
   ]
  },
  {
   "cell_type": "code",
   "execution_count": null,
   "metadata": {},
   "outputs": [],
   "source": []
  }
 ],
 "metadata": {
  "interpreter": {
   "hash": "81794d4967e6c3204c66dcd87b604927b115b27c00565d3d43f05ba2f3a2cb0d"
  },
  "kernelspec": {
   "display_name": "Python 3.9.7 64-bit",
   "language": "python",
   "name": "python3"
  },
  "language_info": {
   "codemirror_mode": {
    "name": "ipython",
    "version": 3
   },
   "file_extension": ".py",
   "mimetype": "text/x-python",
   "name": "python",
   "nbconvert_exporter": "python",
   "pygments_lexer": "ipython3",
   "version": "3.9.7"
  }
 },
 "nbformat": 4,
 "nbformat_minor": 4
}
